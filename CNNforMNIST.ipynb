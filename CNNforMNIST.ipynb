{
  "nbformat": 4,
  "nbformat_minor": 0,
  "metadata": {
    "colab": {
      "name": "CNNforMNIST.ipynb",
      "provenance": [],
      "include_colab_link": true
    },
    "kernelspec": {
      "name": "python3",
      "display_name": "Python 3"
    },
    "accelerator": "GPU"
  },
  "cells": [
    {
      "cell_type": "markdown",
      "metadata": {
        "id": "view-in-github",
        "colab_type": "text"
      },
      "source": [
        "<a href=\"https://colab.research.google.com/github/nic-fp/docs/blob/master/CNNforMNIST.ipynb\" target=\"_parent\"><img src=\"https://colab.research.google.com/assets/colab-badge.svg\" alt=\"Open In Colab\"/></a>"
      ]
    },
    {
      "cell_type": "code",
      "metadata": {
        "id": "IcTR5geCrg5e",
        "colab_type": "code",
        "outputId": "065c9266-fc6e-4645-ddfc-455d515acb04",
        "colab": {
          "base_uri": "https://localhost:8080/",
          "height": 989
        }
      },
      "source": [
        "from keras.datasets import mnist\n",
        "from keras.utils import to_categorical\n",
        "from keras.models import Sequential\n",
        "from keras.layers import Dense, Conv2D, Flatten,MaxPooling2D, Dropout\n",
        "from numpy.random import seed\n",
        "seed(1)\n",
        "from tensorflow import set_random_seed\n",
        "set_random_seed(2)\n",
        "\n",
        "(x_train, y_train), (x_test, y_test) = mnist.load_data()\n",
        "\n",
        "x_train = x_train.reshape((60000,28,28,1))\n",
        "x_test = x_test.reshape((10000,28,28,1))\n",
        "\n",
        "y_train = to_categorical(y_train)\n",
        "y_test = to_categorical(y_test)\n",
        "\n",
        "model = Sequential()\n",
        "\"\"\"\n",
        "model.add(Conv2D(64, kernel_size = 3, activation = 'relu', input_shape = (28,28,1)))\n",
        "model.add(Conv2D(34, kernel_size = 3, activation = 'relu'))\n",
        "model.add(Flatten())\n",
        "model.add(Dense(10, activation='softmax'))\n",
        "\"\"\"\n",
        "\n",
        "     #general cnn model about 98% accuracy maybe 2 mins to train\n",
        "model.add(Conv2D(32, kernel_size=(3, 3),\n",
        "                 activation='relu',\n",
        "                 input_shape=(28,28,1)))\n",
        "model.add(Conv2D(64, kernel_size=(3, 3), activation='relu'))\n",
        "model.add(MaxPooling2D(pool_size=(2, 2)))\n",
        "model.add(Dropout(0.25))\n",
        "model.add(Flatten())\n",
        "model.add(Dense(128, activation='relu'))\n",
        "model.add(Dropout(0.5))\n",
        "model.add(Dense(10, activation='softmax'))\n",
        "model.compile(optimizer='adam',loss= 'categorical_crossentropy',metrics=['accuracy'])\n",
        "'''\n",
        "#Alexnet model of CNN model build  actually did about 1% worse which isn't significant but took significantly longer to train\n",
        "model.add(Conv2D(96, kernel_size=(11, 11),strides=4, input_shape=(28,28,1),\n",
        "                 activation='relu'\n",
        "                 ))\n",
        "model.add(MaxPooling2D())\n",
        "model.add(Conv2D(256, kernel_size=5,padding=\"SAME\", activation='relu'))\n",
        "model.add(MaxPooling2D())\n",
        "model.add(Conv2D(384, kernel_size=3,padding=\"SAME\", activation='relu'))\n",
        "model.add(Conv2D(384, kernel_size=3,padding=\"SAME\", activation='relu'))\n",
        "model.add(Conv2D(256, kernel_size=3,padding=\"SAME\", activation='relu'))\n",
        "model.add(Flatten())\n",
        "model.add(Dense(4096, activation='relu'))\n",
        "model.add(Dense(4096, activation='relu'))\n",
        "model.add(Dense(10, activation='softmax'))\n",
        "model.compile(optimizer='adam',loss= 'categorical_crossentropy',metrics=['accuracy'])\n",
        "'''\n",
        "model.fit(x_train,y_train,epochs=10,validation_split=.1)"
      ],
      "execution_count": 0,
      "outputs": [
        {
          "output_type": "stream",
          "text": [
            "Using TensorFlow backend.\n"
          ],
          "name": "stderr"
        },
        {
          "output_type": "stream",
          "text": [
            "Downloading data from https://s3.amazonaws.com/img-datasets/mnist.npz\n",
            "11493376/11490434 [==============================] - 2s 0us/step\n",
            "WARNING:tensorflow:From /usr/local/lib/python3.6/dist-packages/keras/backend/tensorflow_backend.py:66: The name tf.get_default_graph is deprecated. Please use tf.compat.v1.get_default_graph instead.\n",
            "\n",
            "WARNING:tensorflow:From /usr/local/lib/python3.6/dist-packages/keras/backend/tensorflow_backend.py:541: The name tf.placeholder is deprecated. Please use tf.compat.v1.placeholder instead.\n",
            "\n",
            "WARNING:tensorflow:From /usr/local/lib/python3.6/dist-packages/keras/backend/tensorflow_backend.py:4432: The name tf.random_uniform is deprecated. Please use tf.random.uniform instead.\n",
            "\n",
            "WARNING:tensorflow:From /usr/local/lib/python3.6/dist-packages/keras/backend/tensorflow_backend.py:4267: The name tf.nn.max_pool is deprecated. Please use tf.nn.max_pool2d instead.\n",
            "\n",
            "WARNING:tensorflow:From /usr/local/lib/python3.6/dist-packages/keras/optimizers.py:793: The name tf.train.Optimizer is deprecated. Please use tf.compat.v1.train.Optimizer instead.\n",
            "\n",
            "WARNING:tensorflow:From /usr/local/lib/python3.6/dist-packages/keras/backend/tensorflow_backend.py:3576: The name tf.log is deprecated. Please use tf.math.log instead.\n",
            "\n",
            "WARNING:tensorflow:From /usr/local/lib/python3.6/dist-packages/tensorflow_core/python/ops/math_grad.py:1424: where (from tensorflow.python.ops.array_ops) is deprecated and will be removed in a future version.\n",
            "Instructions for updating:\n",
            "Use tf.where in 2.0, which has the same broadcast rule as np.where\n",
            "WARNING:tensorflow:From /usr/local/lib/python3.6/dist-packages/keras/backend/tensorflow_backend.py:1033: The name tf.assign_add is deprecated. Please use tf.compat.v1.assign_add instead.\n",
            "\n",
            "WARNING:tensorflow:From /usr/local/lib/python3.6/dist-packages/keras/backend/tensorflow_backend.py:1020: The name tf.assign is deprecated. Please use tf.compat.v1.assign instead.\n",
            "\n",
            "WARNING:tensorflow:From /usr/local/lib/python3.6/dist-packages/keras/backend/tensorflow_backend.py:3005: The name tf.Session is deprecated. Please use tf.compat.v1.Session instead.\n",
            "\n",
            "Train on 54000 samples, validate on 6000 samples\n",
            "Epoch 1/10\n",
            "WARNING:tensorflow:From /usr/local/lib/python3.6/dist-packages/keras/backend/tensorflow_backend.py:190: The name tf.get_default_session is deprecated. Please use tf.compat.v1.get_default_session instead.\n",
            "\n",
            "WARNING:tensorflow:From /usr/local/lib/python3.6/dist-packages/keras/backend/tensorflow_backend.py:197: The name tf.ConfigProto is deprecated. Please use tf.compat.v1.ConfigProto instead.\n",
            "\n",
            "WARNING:tensorflow:From /usr/local/lib/python3.6/dist-packages/keras/backend/tensorflow_backend.py:207: The name tf.global_variables is deprecated. Please use tf.compat.v1.global_variables instead.\n",
            "\n",
            "WARNING:tensorflow:From /usr/local/lib/python3.6/dist-packages/keras/backend/tensorflow_backend.py:216: The name tf.is_variable_initialized is deprecated. Please use tf.compat.v1.is_variable_initialized instead.\n",
            "\n",
            "WARNING:tensorflow:From /usr/local/lib/python3.6/dist-packages/keras/backend/tensorflow_backend.py:223: The name tf.variables_initializer is deprecated. Please use tf.compat.v1.variables_initializer instead.\n",
            "\n",
            "54000/54000 [==============================] - 85s 2ms/step - loss: 0.3928 - acc: 0.8895 - val_loss: 0.3718 - val_acc: 0.8898\n",
            "Epoch 2/10\n",
            "54000/54000 [==============================] - 77s 1ms/step - loss: 0.1970 - acc: 0.9542 - val_loss: 0.1778 - val_acc: 0.9590\n",
            "Epoch 3/10\n",
            "54000/54000 [==============================] - 77s 1ms/step - loss: 0.1757 - acc: 0.9600 - val_loss: 0.1439 - val_acc: 0.9685\n",
            "Epoch 4/10\n",
            "54000/54000 [==============================] - 76s 1ms/step - loss: 0.1302 - acc: 0.9685 - val_loss: 0.1218 - val_acc: 0.9738\n",
            "Epoch 5/10\n",
            "54000/54000 [==============================] - 77s 1ms/step - loss: 0.1351 - acc: 0.9682 - val_loss: 0.1120 - val_acc: 0.9693\n",
            "Epoch 6/10\n",
            "54000/54000 [==============================] - 77s 1ms/step - loss: 0.1231 - acc: 0.9687 - val_loss: 0.0930 - val_acc: 0.9755\n",
            "Epoch 7/10\n",
            "54000/54000 [==============================] - 77s 1ms/step - loss: 0.0916 - acc: 0.9776 - val_loss: 0.1168 - val_acc: 0.9760\n",
            "Epoch 8/10\n",
            "54000/54000 [==============================] - 77s 1ms/step - loss: 0.0958 - acc: 0.9778 - val_loss: 0.1016 - val_acc: 0.9743\n",
            "Epoch 9/10\n",
            "54000/54000 [==============================] - 77s 1ms/step - loss: 0.0811 - acc: 0.9803 - val_loss: 0.1021 - val_acc: 0.9790\n",
            "Epoch 10/10\n",
            "54000/54000 [==============================] - 77s 1ms/step - loss: 0.0825 - acc: 0.9806 - val_loss: 0.1411 - val_acc: 0.9608\n"
          ],
          "name": "stdout"
        },
        {
          "output_type": "execute_result",
          "data": {
            "text/plain": [
              "<keras.callbacks.History at 0x7fc221cd0160>"
            ]
          },
          "metadata": {
            "tags": []
          },
          "execution_count": 1
        }
      ]
    },
    {
      "cell_type": "code",
      "metadata": {
        "id": "yAoVktKHzOoQ",
        "colab_type": "code",
        "colab": {}
      },
      "source": [
        ""
      ],
      "execution_count": 0,
      "outputs": []
    },
    {
      "cell_type": "code",
      "metadata": {
        "id": "HmqkOypX6Lvd",
        "colab_type": "code",
        "outputId": "23ac4e9d-3e9e-4e16-e6fd-a7e1eac089ea",
        "colab": {
          "base_uri": "https://localhost:8080/",
          "height": 85
        }
      },
      "source": [
        "model.predict((x_test[:4]))\n",
        "y_test[:4]"
      ],
      "execution_count": 0,
      "outputs": [
        {
          "output_type": "execute_result",
          "data": {
            "text/plain": [
              "array([[0., 0., 0., 0., 0., 0., 0., 1., 0., 0.],\n",
              "       [0., 0., 1., 0., 0., 0., 0., 0., 0., 0.],\n",
              "       [0., 1., 0., 0., 0., 0., 0., 0., 0., 0.],\n",
              "       [1., 0., 0., 0., 0., 0., 0., 0., 0., 0.]], dtype=float32)"
            ]
          },
          "metadata": {
            "tags": []
          },
          "execution_count": 19
        }
      ]
    },
    {
      "cell_type": "code",
      "metadata": {
        "id": "hgYDV3NB6tB5",
        "colab_type": "code",
        "colab": {}
      },
      "source": [
        ""
      ],
      "execution_count": 0,
      "outputs": []
    }
  ]
}