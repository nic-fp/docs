{
  "nbformat": 4,
  "nbformat_minor": 0,
  "metadata": {
    "colab": {
      "name": "ResNetFromScratch.ipynb",
      "provenance": [],
      "include_colab_link": true
    },
    "kernelspec": {
      "name": "python3",
      "display_name": "Python 3"
    },
    "accelerator": "GPU"
  },
  "cells": [
    {
      "cell_type": "markdown",
      "metadata": {
        "id": "view-in-github",
        "colab_type": "text"
      },
      "source": [
        "<a href=\"https://colab.research.google.com/github/nic-fp/docs/blob/master/ResNetFromScratch.ipynb\" target=\"_parent\"><img src=\"https://colab.research.google.com/assets/colab-badge.svg\" alt=\"Open In Colab\"/></a>"
      ]
    },
    {
      "cell_type": "code",
      "metadata": {
        "id": "2m0tZPLuTZmE",
        "colab_type": "code",
        "outputId": "b7c561e8-f9e3-4d0d-c29a-a988e05f6da3",
        "colab": {
          "base_uri": "https://localhost:8080/",
          "height": 80
        }
      },
      "source": [
        "from keras.layers.normalization import BatchNormalization\n",
        "from keras.layers.convolutional import Conv2D\n",
        "from keras.layers.convolutional import AveragePooling2D\n",
        "from keras.layers.convolutional import MaxPooling2D\n",
        "from keras.layers.convolutional import ZeroPadding2D\n",
        "from keras.layers.core import Activation\n",
        "from keras.layers.core import Dense\n",
        "from keras.layers import Flatten\n",
        "from keras.layers import Input\n",
        "from keras.models import Model\n",
        "from keras.layers import add\n",
        "from keras.regularizers import l2\n",
        "from keras import backend as K\n",
        "\n",
        "\n",
        "class Resnet:\n",
        "  @staticmethod\n",
        "  def residual_model(data, K, stride, chanDim, red=False, reg = .0001, bnEps = 2e-5, bnMom = .9):\n",
        "    shortcut = data\n",
        "    \n",
        "    #first block\n",
        "    bn1 = BatchNormalization(axis= chanDim, epsilon = bnEps, momentum = bnMom)(data)\n",
        "    act1 = Activation('relu')(bn1)\n",
        "    conv1 = Conv2D(int(K*.25), (1,1), use_bias = False, kernel_regularizer=l2(reg))(act1)\n",
        "\n",
        "    #second block\n",
        "    bn2 = BatchNormalization(axis= chanDim, epsilon = bnEps, momentum = bnMom)(conv1)\n",
        "    act2 = Activation('relu')(bn2)\n",
        "    conv2 = Conv2D(int(K*.25), (3,3),strides=stride, padding= 'same',use_bias = False, kernel_regularizer=l2(reg))(act2)\n",
        "\n",
        "    #third block\n",
        "    bn3 = BatchNormalization(axis= chanDim, epsilon = bnEps, momentum = bnMom)(conv2)\n",
        "    act3 = Activation('relu')(bn3)\n",
        "    conv3 = Conv2D(K, (1, 1), use_bias=False, kernel_regularizer=l2(reg))(act3)\n",
        "\n",
        "    if red:\n",
        "      shortcut = Conv2D(K, (1,1), strides= stride, use_bias= False, kernel_regularizer= l2(reg))(act1)\n",
        "    \n",
        "    x = add([conv3,shortcut]) #check if order matters\n",
        "    return x\n",
        "\n",
        "  @staticmethod\n",
        "\n",
        "  def build(width, height, depth, classes, stages, filters, reg= .0001, bnEps = 2e-5, bnMom = .9):\n",
        "    inputShape = (height, width, depth)\n",
        "    chanDim = -1\n",
        "\n",
        "    #update if using Channels 1st data\n",
        "\n",
        "    if K.image_data_format() == 'channels_first':\n",
        "      inputShape = (depth, height, width)\n",
        "      chanDim = 1\n",
        "    \n",
        "\n",
        "    inputs = Input(shape = inputShape)\n",
        "    x = BatchNormalization(axis= chanDim, epsilon = bnEps, momentum = bnMom)(inputs)\n",
        "    x = Conv2D(filters[0], (5,5),use_bias = False, kernel_regularizer=l2(reg))(x)\n",
        "    x = BatchNormalization(axis= chanDim, epsilon = bnEps, momentum = bnMom)(x)\n",
        "    x = Activation('relu')(x)\n",
        "    x = ZeroPadding2D((1,1))(x)\n",
        "    x = MaxPooling2D((3,3), strides = (2,2))(x)\n",
        "\n",
        "    for i in range(0,len(stages)):  # This is the resnet part. For each number in the list of number of stages = the number of residual layers on each other\n",
        "      stride = (1, 1) if i == 0 else (2, 2)\n",
        "      x = Resnet.residual_model(x,filters[i+1], stride, chanDim=chanDim, red = True, bnEps= bnEps, bnMom = bnMom)\n",
        "\n",
        "      for layers in range(0,stages[i]-1):\n",
        "        x = Resnet.residual_model(x,filters[i+1],stride = (1,1) ,chanDim=chanDim, red = False, bnEps= bnEps, bnMom = bnMom)\n",
        "\n",
        "    x = BatchNormalization(axis= chanDim, epsilon = bnEps, momentum = bnMom)(x)\n",
        "    x = Activation('relu')(x)\n",
        "    x = AveragePooling2D((2,2))(x)\n",
        "    x = Flatten()(x)\n",
        "    x = Dense(classes, kernel_regularizer = l2(reg))(x)\n",
        "    x = Activation('softmax')(x)\n",
        "\n",
        "    model = Model(inputs,x, name = 'Resnet')\n",
        "\n",
        "    return model"
      ],
      "execution_count": 1,
      "outputs": [
        {
          "output_type": "stream",
          "text": [
            "Using TensorFlow backend.\n"
          ],
          "name": "stderr"
        },
        {
          "output_type": "display_data",
          "data": {
            "text/html": [
              "<p style=\"color: red;\">\n",
              "The default version of TensorFlow in Colab will soon switch to TensorFlow 2.x.<br>\n",
              "We recommend you <a href=\"https://www.tensorflow.org/guide/migrate\" target=\"_blank\">upgrade</a> now \n",
              "or ensure your notebook will continue to use TensorFlow 1.x via the <code>%tensorflow_version 1.x</code> magic:\n",
              "<a href=\"https://colab.research.google.com/notebooks/tensorflow_version.ipynb\" target=\"_blank\">more info</a>.</p>\n"
            ],
            "text/plain": [
              "<IPython.core.display.HTML object>"
            ]
          },
          "metadata": {
            "tags": []
          }
        }
      ]
    },
    {
      "cell_type": "code",
      "metadata": {
        "id": "8w9VnmxQX_-M",
        "colab_type": "code",
        "outputId": "31b700f4-e6bc-4589-f0ea-19b47ba38621",
        "colab": {
          "base_uri": "https://localhost:8080/",
          "height": 119
        }
      },
      "source": [
        "import numpy as np\n",
        "np.random.seed(1337) # for reproducibility\n",
        "from keras.models import Sequential\n",
        "from keras.datasets import mnist\n",
        "from keras.utils import to_categorical\n",
        "from keras.layers import Dense, Conv2D, Flatten,MaxPooling2D, Dropout,BatchNormalization\n",
        "\n",
        "(x_train, y_train), (x_test, y_test) = mnist.load_data()\n",
        "\n",
        "x_train = x_train.reshape((60000,28,28,1))\n",
        "x_test = x_test.reshape((10000,28,28,1))\n",
        "\n",
        "y_train = to_categorical(y_train)\n",
        "y_test = to_categorical(y_test)\n",
        "\n",
        "\n",
        "#98% val accuracy on MNIST after 1 epoch then starts slightly overfitting long term about 64s per epoch\n",
        "model = Resnet.build(width = 28,height = 28, depth = 1,classes = 10,stages = (3,4,6),filters = (64, 128, 256, 512))\n",
        "#model.add(Resnet)\n",
        "\n",
        "model.compile(optimizer='adam',loss= 'categorical_crossentropy',metrics=['accuracy'])\n",
        "\n",
        "model.fit(x_train,y_train,batch_size= 80, epochs=2,validation_split=.2)"
      ],
      "execution_count": 0,
      "outputs": [
        {
          "output_type": "stream",
          "text": [
            "Train on 48000 samples, validate on 12000 samples\n",
            "Epoch 1/2\n",
            "48000/48000 [==============================] - 83s 2ms/step - loss: 0.6365 - acc: 0.9571 - val_loss: 0.4963 - val_acc: 0.9853\n",
            "Epoch 2/2\n",
            "48000/48000 [==============================] - 64s 1ms/step - loss: 0.4312 - acc: 0.9854 - val_loss: 0.3984 - val_acc: 0.9788\n"
          ],
          "name": "stdout"
        },
        {
          "output_type": "execute_result",
          "data": {
            "text/plain": [
              "<keras.callbacks.History at 0x7fa937b0af60>"
            ]
          },
          "metadata": {
            "tags": []
          },
          "execution_count": 36
        }
      ]
    },
    {
      "cell_type": "code",
      "metadata": {
        "id": "vfT_n7SEZRYa",
        "colab_type": "code",
        "colab": {
          "base_uri": "https://localhost:8080/",
          "height": 870
        },
        "outputId": "8c05b64f-006c-4ad1-be08-217881d002e2"
      },
      "source": [
        "import numpy as np\n",
        "np.random.seed(1337) # for reproducibility\n",
        "from keras.models import Sequential\n",
        "from keras.datasets import cifar10\n",
        "from keras.utils import to_categorical\n",
        "from keras.layers import Dense, Conv2D, Flatten,MaxPooling2D, Dropout,BatchNormalization\n",
        "\n",
        "(x_train, y_train), (x_test, y_test) = cifar10.load_data()\n",
        "\n",
        "x_train = x_train.reshape((50000,32,32,3))\n",
        "x_test = x_test.reshape((10000,32,32,3))\n",
        "\n",
        "y_train = to_categorical(y_train)\n",
        "y_test = to_categorical(y_test)\n",
        "\n",
        "\n",
        "#73% val acc after 4 epoch  starting to overfit 28s per epoch  might try w dif adam optimizer like last resnet\n",
        "model = Resnet.build(width = 32,height = 32, depth = 3,classes = 10,stages = (3,4,6),filters = (64, 128, 256, 512))\n",
        "#model.add(Resnet)\n",
        "\n",
        "model.compile(optimizer='adam',loss= 'categorical_crossentropy',metrics=['accuracy'])\n",
        "\n",
        "model.fit(x_train,y_train,batch_size= 80, epochs=4,validation_split=.2)\n",
        "#model.evaluate(x_test,y_test)"
      ],
      "execution_count": 2,
      "outputs": [
        {
          "output_type": "stream",
          "text": [
            "Downloading data from https://www.cs.toronto.edu/~kriz/cifar-10-python.tar.gz\n",
            "170500096/170498071 [==============================] - 6s 0us/step\n",
            "WARNING:tensorflow:From /usr/local/lib/python3.6/dist-packages/keras/backend/tensorflow_backend.py:66: The name tf.get_default_graph is deprecated. Please use tf.compat.v1.get_default_graph instead.\n",
            "\n",
            "WARNING:tensorflow:From /usr/local/lib/python3.6/dist-packages/keras/backend/tensorflow_backend.py:541: The name tf.placeholder is deprecated. Please use tf.compat.v1.placeholder instead.\n",
            "\n",
            "WARNING:tensorflow:From /usr/local/lib/python3.6/dist-packages/keras/backend/tensorflow_backend.py:190: The name tf.get_default_session is deprecated. Please use tf.compat.v1.get_default_session instead.\n",
            "\n",
            "WARNING:tensorflow:From /usr/local/lib/python3.6/dist-packages/keras/backend/tensorflow_backend.py:197: The name tf.ConfigProto is deprecated. Please use tf.compat.v1.ConfigProto instead.\n",
            "\n",
            "WARNING:tensorflow:From /usr/local/lib/python3.6/dist-packages/keras/backend/tensorflow_backend.py:203: The name tf.Session is deprecated. Please use tf.compat.v1.Session instead.\n",
            "\n",
            "WARNING:tensorflow:From /usr/local/lib/python3.6/dist-packages/keras/backend/tensorflow_backend.py:207: The name tf.global_variables is deprecated. Please use tf.compat.v1.global_variables instead.\n",
            "\n",
            "WARNING:tensorflow:From /usr/local/lib/python3.6/dist-packages/keras/backend/tensorflow_backend.py:216: The name tf.is_variable_initialized is deprecated. Please use tf.compat.v1.is_variable_initialized instead.\n",
            "\n",
            "WARNING:tensorflow:From /usr/local/lib/python3.6/dist-packages/keras/backend/tensorflow_backend.py:223: The name tf.variables_initializer is deprecated. Please use tf.compat.v1.variables_initializer instead.\n",
            "\n",
            "WARNING:tensorflow:From /usr/local/lib/python3.6/dist-packages/keras/backend/tensorflow_backend.py:2041: The name tf.nn.fused_batch_norm is deprecated. Please use tf.compat.v1.nn.fused_batch_norm instead.\n",
            "\n",
            "WARNING:tensorflow:From /usr/local/lib/python3.6/dist-packages/keras/backend/tensorflow_backend.py:148: The name tf.placeholder_with_default is deprecated. Please use tf.compat.v1.placeholder_with_default instead.\n",
            "\n",
            "WARNING:tensorflow:From /usr/local/lib/python3.6/dist-packages/keras/backend/tensorflow_backend.py:4432: The name tf.random_uniform is deprecated. Please use tf.random.uniform instead.\n",
            "\n",
            "WARNING:tensorflow:From /usr/local/lib/python3.6/dist-packages/keras/backend/tensorflow_backend.py:4267: The name tf.nn.max_pool is deprecated. Please use tf.nn.max_pool2d instead.\n",
            "\n",
            "WARNING:tensorflow:From /usr/local/lib/python3.6/dist-packages/keras/backend/tensorflow_backend.py:4271: The name tf.nn.avg_pool is deprecated. Please use tf.nn.avg_pool2d instead.\n",
            "\n",
            "WARNING:tensorflow:From /usr/local/lib/python3.6/dist-packages/keras/optimizers.py:793: The name tf.train.Optimizer is deprecated. Please use tf.compat.v1.train.Optimizer instead.\n",
            "\n",
            "WARNING:tensorflow:From /usr/local/lib/python3.6/dist-packages/keras/backend/tensorflow_backend.py:3576: The name tf.log is deprecated. Please use tf.math.log instead.\n",
            "\n",
            "WARNING:tensorflow:From /usr/local/lib/python3.6/dist-packages/tensorflow_core/python/ops/math_grad.py:1424: where (from tensorflow.python.ops.array_ops) is deprecated and will be removed in a future version.\n",
            "Instructions for updating:\n",
            "Use tf.where in 2.0, which has the same broadcast rule as np.where\n",
            "WARNING:tensorflow:From /usr/local/lib/python3.6/dist-packages/keras/backend/tensorflow_backend.py:1033: The name tf.assign_add is deprecated. Please use tf.compat.v1.assign_add instead.\n",
            "\n",
            "WARNING:tensorflow:From /usr/local/lib/python3.6/dist-packages/keras/backend/tensorflow_backend.py:1020: The name tf.assign is deprecated. Please use tf.compat.v1.assign instead.\n",
            "\n",
            "Train on 40000 samples, validate on 10000 samples\n",
            "Epoch 1/4\n",
            "40000/40000 [==============================] - 41s 1ms/step - loss: 1.9486 - acc: 0.4884 - val_loss: 1.6717 - val_acc: 0.5879\n",
            "Epoch 2/4\n",
            "40000/40000 [==============================] - 28s 704us/step - loss: 1.4572 - acc: 0.6607 - val_loss: 1.3788 - val_acc: 0.6796\n",
            "Epoch 3/4\n",
            "40000/40000 [==============================] - 28s 703us/step - loss: 1.2091 - acc: 0.7355 - val_loss: 1.2321 - val_acc: 0.7243\n",
            "Epoch 4/4\n",
            "40000/40000 [==============================] - 28s 695us/step - loss: 1.0591 - acc: 0.7803 - val_loss: 1.1623 - val_acc: 0.7420\n"
          ],
          "name": "stdout"
        },
        {
          "output_type": "execute_result",
          "data": {
            "text/plain": [
              "<keras.callbacks.History at 0x7ff5b9600a20>"
            ]
          },
          "metadata": {
            "tags": []
          },
          "execution_count": 2
        }
      ]
    },
    {
      "cell_type": "code",
      "metadata": {
        "id": "p-FfImwVz8RG",
        "colab_type": "code",
        "colab": {
          "base_uri": "https://localhost:8080/",
          "height": 51
        },
        "outputId": "54d1bc58-9298-4c18-ebca-360ad4cfec07"
      },
      "source": [
        "model.evaluate(x_test,y_test)"
      ],
      "execution_count": 3,
      "outputs": [
        {
          "output_type": "stream",
          "text": [
            "10000/10000 [==============================] - 3s 297us/step\n"
          ],
          "name": "stdout"
        },
        {
          "output_type": "execute_result",
          "data": {
            "text/plain": [
              "[1.1741556305885315, 0.7382]"
            ]
          },
          "metadata": {
            "tags": []
          },
          "execution_count": 3
        }
      ]
    },
    {
      "cell_type": "code",
      "metadata": {
        "id": "9ixWVClQzL6O",
        "colab_type": "code",
        "outputId": "0e932e26-9377-4c79-e0e4-fc14d0007491",
        "colab": {
          "base_uri": "https://localhost:8080/",
          "height": 187
        }
      },
      "source": [
        "import numpy as np\n",
        "from keras.models import Sequential\n",
        "from keras.datasets import cifar10\n",
        "from keras.utils import to_categorical\n",
        "from keras.layers import Dense, Conv2D, Flatten,MaxPooling2D, Dropout,BatchNormalization\n",
        "\n",
        "(x_train, y_train), (x_test, y_test) = cifar10.load_data()\n",
        "\n",
        "x_train = x_train.reshape((50000,32,32,3))\n",
        "x_test = x_test.reshape((10000,32,32,3))\n",
        "\n",
        "y_train = to_categorical(y_train)\n",
        "y_test = to_categorical(y_test)\n",
        "\n",
        "\n",
        "# 71% val accuracy after 4 epochs 156s per epoch\n",
        "model = Resnet.build(width = 32,height = 32, depth = 3,classes = 10,stages = (6,10,16),filters = (64, 128, 256, 512))\n",
        "#model.add(Resnet)\n",
        "\n",
        "model.compile(optimizer='adam',loss= 'categorical_crossentropy',metrics=['accuracy'])\n",
        "\n",
        "model.fit(x_train,y_train,batch_size= 80, epochs=4,validation_split=.2)"
      ],
      "execution_count": 0,
      "outputs": [
        {
          "output_type": "stream",
          "text": [
            "Train on 40000 samples, validate on 10000 samples\n",
            "Epoch 1/4\n",
            "40000/40000 [==============================] - 197s 5ms/step - loss: 2.9483 - acc: 0.3893 - val_loss: 2.7068 - val_acc: 0.4143\n",
            "Epoch 2/4\n",
            "40000/40000 [==============================] - 157s 4ms/step - loss: 2.1989 - acc: 0.5484 - val_loss: 2.0316 - val_acc: 0.5742\n",
            "Epoch 3/4\n",
            "40000/40000 [==============================] - 157s 4ms/step - loss: 1.7217 - acc: 0.6550 - val_loss: 1.5778 - val_acc: 0.6791\n",
            "Epoch 4/4\n",
            "40000/40000 [==============================] - 156s 4ms/step - loss: 1.4257 - acc: 0.7184 - val_loss: 1.3732 - val_acc: 0.7178\n"
          ],
          "name": "stdout"
        },
        {
          "output_type": "execute_result",
          "data": {
            "text/plain": [
              "<keras.callbacks.History at 0x7fa933b0cf60>"
            ]
          },
          "metadata": {
            "tags": []
          },
          "execution_count": 37
        }
      ]
    },
    {
      "cell_type": "code",
      "metadata": {
        "id": "PFJgiqUS1_qr",
        "colab_type": "code",
        "outputId": "d3f6d959-a3c5-443b-8201-ec7980a11eaa",
        "colab": {
          "base_uri": "https://localhost:8080/",
          "height": 836
        }
      },
      "source": [
        "import numpy as np\n",
        "from keras.models import Sequential\n",
        "from keras.datasets import cifar10\n",
        "from keras.utils import to_categorical\n",
        "from keras.layers import Dense, Conv2D, Flatten,MaxPooling2D, Dropout,BatchNormalization\n",
        "\n",
        "(x_train, y_train), (x_test, y_test) = cifar10.load_data()\n",
        "\n",
        "x_train = x_train.reshape((50000,32,32,3))\n",
        "x_test = x_test.reshape((10000,32,32,3))\n",
        "\n",
        "y_train = to_categorical(y_train)\n",
        "y_test = to_categorical(y_test)\n",
        "\n",
        "\n",
        "#44% val after 4 epochs. need to comment out avg pooling layer to use this \n",
        "model = Resnet.build(width = 32,height = 32, depth = 3,classes = 10,stages = (3,4,6,10,16),filters = (16,32,64, 128, 256, 512))\n",
        "#model.add(Resnet)\n",
        "\n",
        "model.compile(optimizer='adam',loss= 'categorical_crossentropy',metrics=['accuracy'])\n",
        "\n",
        "model.fit(x_train,y_train,batch_size= 80, epochs=4,validation_split=.2)"
      ],
      "execution_count": 0,
      "outputs": [
        {
          "output_type": "stream",
          "text": [
            "Downloading data from https://www.cs.toronto.edu/~kriz/cifar-10-python.tar.gz\n",
            "170500096/170498071 [==============================] - 10s 0us/step\n",
            "WARNING:tensorflow:From /usr/local/lib/python3.6/dist-packages/keras/backend/tensorflow_backend.py:66: The name tf.get_default_graph is deprecated. Please use tf.compat.v1.get_default_graph instead.\n",
            "\n",
            "WARNING:tensorflow:From /usr/local/lib/python3.6/dist-packages/keras/backend/tensorflow_backend.py:541: The name tf.placeholder is deprecated. Please use tf.compat.v1.placeholder instead.\n",
            "\n",
            "WARNING:tensorflow:From /usr/local/lib/python3.6/dist-packages/keras/backend/tensorflow_backend.py:190: The name tf.get_default_session is deprecated. Please use tf.compat.v1.get_default_session instead.\n",
            "\n",
            "WARNING:tensorflow:From /usr/local/lib/python3.6/dist-packages/keras/backend/tensorflow_backend.py:197: The name tf.ConfigProto is deprecated. Please use tf.compat.v1.ConfigProto instead.\n",
            "\n",
            "WARNING:tensorflow:From /usr/local/lib/python3.6/dist-packages/keras/backend/tensorflow_backend.py:203: The name tf.Session is deprecated. Please use tf.compat.v1.Session instead.\n",
            "\n",
            "WARNING:tensorflow:From /usr/local/lib/python3.6/dist-packages/keras/backend/tensorflow_backend.py:207: The name tf.global_variables is deprecated. Please use tf.compat.v1.global_variables instead.\n",
            "\n",
            "WARNING:tensorflow:From /usr/local/lib/python3.6/dist-packages/keras/backend/tensorflow_backend.py:216: The name tf.is_variable_initialized is deprecated. Please use tf.compat.v1.is_variable_initialized instead.\n",
            "\n",
            "WARNING:tensorflow:From /usr/local/lib/python3.6/dist-packages/keras/backend/tensorflow_backend.py:223: The name tf.variables_initializer is deprecated. Please use tf.compat.v1.variables_initializer instead.\n",
            "\n",
            "WARNING:tensorflow:From /usr/local/lib/python3.6/dist-packages/keras/backend/tensorflow_backend.py:2041: The name tf.nn.fused_batch_norm is deprecated. Please use tf.compat.v1.nn.fused_batch_norm instead.\n",
            "\n",
            "WARNING:tensorflow:From /usr/local/lib/python3.6/dist-packages/keras/backend/tensorflow_backend.py:148: The name tf.placeholder_with_default is deprecated. Please use tf.compat.v1.placeholder_with_default instead.\n",
            "\n",
            "WARNING:tensorflow:From /usr/local/lib/python3.6/dist-packages/keras/backend/tensorflow_backend.py:4432: The name tf.random_uniform is deprecated. Please use tf.random.uniform instead.\n",
            "\n",
            "WARNING:tensorflow:From /usr/local/lib/python3.6/dist-packages/keras/backend/tensorflow_backend.py:4267: The name tf.nn.max_pool is deprecated. Please use tf.nn.max_pool2d instead.\n",
            "\n",
            "WARNING:tensorflow:From /usr/local/lib/python3.6/dist-packages/keras/optimizers.py:793: The name tf.train.Optimizer is deprecated. Please use tf.compat.v1.train.Optimizer instead.\n",
            "\n",
            "WARNING:tensorflow:From /usr/local/lib/python3.6/dist-packages/keras/backend/tensorflow_backend.py:3576: The name tf.log is deprecated. Please use tf.math.log instead.\n",
            "\n",
            "WARNING:tensorflow:From /usr/local/lib/python3.6/dist-packages/tensorflow_core/python/ops/math_grad.py:1424: where (from tensorflow.python.ops.array_ops) is deprecated and will be removed in a future version.\n",
            "Instructions for updating:\n",
            "Use tf.where in 2.0, which has the same broadcast rule as np.where\n",
            "WARNING:tensorflow:From /usr/local/lib/python3.6/dist-packages/keras/backend/tensorflow_backend.py:1033: The name tf.assign_add is deprecated. Please use tf.compat.v1.assign_add instead.\n",
            "\n",
            "WARNING:tensorflow:From /usr/local/lib/python3.6/dist-packages/keras/backend/tensorflow_backend.py:1020: The name tf.assign is deprecated. Please use tf.compat.v1.assign instead.\n",
            "\n",
            "Train on 40000 samples, validate on 10000 samples\n",
            "Epoch 1/4\n",
            "40000/40000 [==============================] - 146s 4ms/step - loss: 3.2097 - acc: 0.2252 - val_loss: 2.9660 - val_acc: 0.3074\n",
            "Epoch 2/4\n",
            "40000/40000 [==============================] - 105s 3ms/step - loss: 2.7720 - acc: 0.3417 - val_loss: 2.6691 - val_acc: 0.3616\n",
            "Epoch 3/4\n",
            "40000/40000 [==============================] - 107s 3ms/step - loss: 2.4674 - acc: 0.4025 - val_loss: 2.3368 - val_acc: 0.4219\n",
            "Epoch 4/4\n",
            "40000/40000 [==============================] - 108s 3ms/step - loss: 2.2113 - acc: 0.4477 - val_loss: 2.1517 - val_acc: 0.4475\n"
          ],
          "name": "stdout"
        },
        {
          "output_type": "execute_result",
          "data": {
            "text/plain": [
              "<keras.callbacks.History at 0x7fcb2b7968d0>"
            ]
          },
          "metadata": {
            "tags": []
          },
          "execution_count": 2
        }
      ]
    }
  ]
}